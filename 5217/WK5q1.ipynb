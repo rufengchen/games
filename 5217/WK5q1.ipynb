{
 "cells": [
  {
   "cell_type": "code",
   "execution_count": 19,
   "id": "a7c5c889-947f-4889-8b53-7ceb962e70da",
   "metadata": {},
   "outputs": [
    {
     "name": "stdout",
     "output_type": "stream",
     "text": [
      "['Connecticut', 'Delaware', 'Georgia', 'Maryland', 'Massachusetts', 'New Hampshire', 'New Jersey', 'New York', 'North Carolina', 'Pennsylvania', 'Rhode Island', 'South Carolina', 'Virginia']\n",
      "Connecticut\n",
      "Delaware\n",
      "Georgia\n",
      "Maryland\n",
      "Massachusetts\n",
      "New Hampshire\n",
      "New Jersey\n",
      "New York\n",
      "North Carolina\n",
      "Pennsylvania\n",
      "Rhode Island\n",
      "South Carolina\n",
      "Virginia\n"
     ]
    }
   ],
   "source": [
    "# Exercise 1: list sorting\n",
    "# create one state a line and only contain the first 13 states\n",
    "statefile = open(\"States.txt\",\"r\") # you get Str\n",
    "statesstr = statefile.read() # read all the content\n",
    "# Use split turn the Str into List, create a list of states using split()\n",
    "statelist = statesstr.split('\\n') #\\n mean the seperator\n",
    "# sort the 13 states in alphabetical order, extract the first 13 states \n",
    "new_list = statelist[0:13]\n",
    "new_list.sort()\n",
    "print(new_list)\n",
    "# display the 13 states one in one line \n",
    "for i in range (0,len(new_list)):\n",
    "    print(new_list[i])\n",
    "\n",
    "states.close()"
   ]
  },
  {
   "cell_type": "code",
   "execution_count": 33,
   "id": "aacbdb3b-740d-4473-a359-12d733ceca9f",
   "metadata": {},
   "outputs": [
    {
     "name": "stdout",
     "output_type": "stream",
     "text": [
      "Connecticut\n",
      "\n",
      "Delaware\n",
      "\n",
      "Georgia\n",
      "\n",
      "Maryland\n",
      "\n",
      "Massachusetts\n",
      "\n",
      "New Hampshire\n",
      "\n",
      "New Jersey\n",
      "\n",
      "New York\n",
      "\n",
      "North Carolina\n",
      "\n",
      "Pennsylvania\n",
      "\n",
      "Rhode Island\n",
      "\n",
      "South Carolina\n",
      "\n",
      "Virginia\n",
      "\n"
     ]
    }
   ],
   "source": [
    "# Exercise 1: list sorting (another version)\n",
    "# create one state a line and only contain the first 13 states\n",
    "statefile = open(\"States.txt\",\"r\") # you get Str\n",
    "statelist =[line for line in statefile]# read lines, list comprehension\n",
    "statelist = statelist[0:13]\n",
    "statelist.sort()\n",
    "for i in range(0,len(statelist)):\n",
    "    statelist[i].replace('\\n','')\n",
    "    print(statelist[i])\n",
    "states.close()"
   ]
  },
  {
   "cell_type": "code",
   "execution_count": 31,
   "id": "d620fd7e-1d4b-4c93-a02d-a02760a7cd90",
   "metadata": {},
   "outputs": [
    {
     "name": "stdout",
     "output_type": "stream",
     "text": [
      "{'Leung', 'Lan', 'Wong', 'Zhang'}\n"
     ]
    }
   ],
   "source": [
    "# Exercise 2: list comprehension and sorting with lambda function \n",
    "names = ['Yuqi Lan','Marilyn Leung','Chenyu Zhang','Wing Sze Wong']\n",
    "setLN =set()\n",
    "for name in names:\n",
    "    setLN.add(name.split()[-1])\n",
    "print(setLN)"
   ]
  },
  {
   "cell_type": "code",
   "execution_count": 36,
   "id": "e75860df-65af-4024-9ee3-39ef88511632",
   "metadata": {},
   "outputs": [
    {
     "name": "stdout",
     "output_type": "stream",
     "text": [
      "['Lan', 'Leung', 'Zhang', 'Wong']\n"
     ]
    }
   ],
   "source": [
    "# Exercise 2: list comprehension and sorting with lambda function \n",
    "# 2.1 use list comprehesion\n",
    "names = ['Yuqi Lan','Marilyn Leung','Chenyu Zhang','Wing Sze Wong']\n",
    "setLN = [lname.split()[-1] for lname in names]\n",
    "print(setLN)\n"
   ]
  },
  {
   "cell_type": "code",
   "execution_count": 37,
   "id": "5228ff55-784b-463b-9791-8b7a821c0bb0",
   "metadata": {},
   "outputs": [
    {
     "name": "stdout",
     "output_type": "stream",
     "text": [
      "['Yuqi Lan', 'Marilyn Leung', 'Wing Sze Wong', 'Chenyu Zhang']\n"
     ]
    }
   ],
   "source": [
    "# Exercise 2: list comprehension and sorting with lambda function \n",
    "# 2.2 use lambda sort the name by last name\n",
    "names = ['Yuqi Lan','Marilyn Leung','Chenyu Zhang','Wing Sze Wong']\n",
    "setLN = [lname.split()[-1] for lname in names]\n",
    "names.sort(key=lambda x: x.split()[-1])\n",
    "print(names)\n"
   ]
  },
  {
   "cell_type": "code",
   "execution_count": 39,
   "id": "b9011f72-2c10-41b4-bca8-8d5833ea34f6",
   "metadata": {},
   "outputs": [
    {
     "name": "stdout",
     "output_type": "stream",
     "text": [
      "['Yuqi Lan', 'Marilyn Leung', 'Wing Sze Wong', 'Chenyu Zhang']\n"
     ]
    }
   ],
   "source": [
    "def y(x):\n",
    "    return x.split()[-1]\n",
    "names = ['Yuqi Lan','Marilyn Leung','Chenyu Zhang','Wing Sze Wong']\n",
    "names.sort(key=y)# the key is the function name(no need parameters)\n",
    "print(names)"
   ]
  },
  {
   "cell_type": "code",
   "execution_count": 43,
   "id": "bb371a25-a0ee-401a-b8ee-9ea34d28b027",
   "metadata": {},
   "outputs": [
    {
     "data": {
      "text/plain": [
       "'rrt'"
      ]
     },
     "execution_count": 43,
     "metadata": {},
     "output_type": "execute_result"
    }
   ],
   "source": [
    "# just some attempts\n",
    "l='wwrrt'\n",
    "l.replace('w','')"
   ]
  },
  {
   "cell_type": "code",
   "execution_count": 18,
   "id": "c3ddf8c7-e9ba-4766-9e7b-fc57d13a64b7",
   "metadata": {},
   "outputs": [
    {
     "name": "stdin",
     "output_type": "stream",
     "text": [
      "Please enter a sentence:  i love you\n"
     ]
    },
    {
     "data": {
      "text/plain": [
       "{'I': 1, ' ': 2, 'L': 1, 'O': 2, 'V': 1, 'E': 1, 'Y': 1, 'U': 1}"
      ]
     },
     "execution_count": 18,
     "metadata": {},
     "output_type": "execute_result"
    }
   ],
   "source": [
    "# Exercise 3: letter frequency (try a another way using lambda function)\n",
    "# declare a list for letters, a list for frequence\n",
    "# declare a dictionary for the pairs \n",
    "def bedict(aStr):\n",
    "    aStr = input(\"Please enter a sentence: \")\n",
    "    aStr = aStr.upper()\n",
    "    keys = []\n",
    "    dd  ={} # dictionary\n",
    "    for letter in aStr:\n",
    "        if letter in keys and letter != '':# if the letter appear in the key, we need to count once\n",
    "            dd[letter] +=1 # add 1 to its frequency\n",
    "        elif letter != '':\n",
    "            keys.append(letter)# add the letter to the key\n",
    "            dd[letter] =1 # add the letter to the dictionary \n",
    "    return dd\n",
    "l='i love you'\n",
    "bedict(l)"
   ]
  },
  {
   "cell_type": "code",
   "execution_count": null,
   "id": "da95a4f1-7ccd-4f04-9be0-ec118739e5dd",
   "metadata": {},
   "outputs": [],
   "source": [
    "# try to do exercise 3 & 5 "
   ]
  },
  {
   "cell_type": "code",
   "execution_count": 54,
   "id": "f71ab9ae-a54d-4ce0-b301-dcebd34ae7ef",
   "metadata": {},
   "outputs": [
    {
     "data": {
      "text/plain": [
       "41"
      ]
     },
     "execution_count": 54,
     "metadata": {},
     "output_type": "execute_result"
    }
   ],
   "source": [
    "import random\n",
    "random.randint(1,100)"
   ]
  },
  {
   "cell_type": "code",
   "execution_count": 69,
   "id": "175667a7-7480-4e4b-8d1e-b848956c09d4",
   "metadata": {},
   "outputs": [
    {
     "name": "stdout",
     "output_type": "stream",
     "text": [
      "<_io.TextIOWrapper name='Data//Prof. YUE Wei Thoo.txt' mode='r' encoding='UTF-8'>\n",
      "<_io.TextIOWrapper name='Data//Prof. MA Jian.txt' mode='r' encoding='UTF-8'>\n",
      "<_io.TextIOWrapper name='Data//Prof. LEE Kwok On Matthew.txt' mode='r' encoding='UTF-8'>\n",
      "<_io.TextIOWrapper name='Data//Prof. Robert M DAVISON.txt' mode='r' encoding='UTF-8'>\n",
      "<_io.TextIOWrapper name='Data//Prof. LIAO Shaoyi Stephen.txt' mode='r' encoding='UTF-8'>\n",
      "<_io.TextIOWrapper name='Data//Prof. FANG Yulin.txt' mode='r' encoding='UTF-8'>\n",
      "<_io.TextIOWrapper name='Data//Prof. Christian WAGNE.txt' mode='r' encoding='UTF-8'>\n",
      "<_io.TextIOWrapper name='Data//Prof. SIA Choon Ling.txt' mode='r' encoding='UTF-8'>\n",
      "<_io.TextIOWrapper name='Data//Prof. LIM Kai H..txt' mode='r' encoding='UTF-8'>\n",
      "<_io.TextIOWrapper name='Data//Prof. WANG Weiquan.txt' mode='r' encoding='UTF-8'>\n"
     ]
    }
   ],
   "source": [
    "# Exercise 5: Collect emails (handle files in one directory using os module)\n",
    "import os # os is related to files\n",
    "path = \"Data\"\n",
    "emailList =[]\n",
    "for files in os.listdir(path):# list all of the files in directory path\n",
    "    profilfile = open(path + '//'+ files, 'r')\n",
    "    # try to append the email addresses to the email list if the \n",
    "    #     line contains '@'\n",
    "    print(profilfile)"
   ]
  },
  {
   "cell_type": "code",
   "execution_count": 64,
   "id": "c2b0a224-6455-45b3-b841-af629cbcda6e",
   "metadata": {},
   "outputs": [
    {
     "data": {
      "text/plain": [
       "3.141592653589793"
      ]
     },
     "execution_count": 64,
     "metadata": {},
     "output_type": "execute_result"
    }
   ],
   "source": [
    "math.pi"
   ]
  },
  {
   "cell_type": "code",
   "execution_count": null,
   "id": "693d6a95-b42d-4883-a148-da025b6bdff3",
   "metadata": {},
   "outputs": [],
   "source": [
    "# Exercise 6: write modules \n",
    "def main()\n",
    "\n",
    "main()"
   ]
  },
  {
   "cell_type": "code",
   "execution_count": 13,
   "id": "0b492b6c-1cd6-4d22-b270-6bd8b9983a8a",
   "metadata": {},
   "outputs": [
    {
     "name": "stdout",
     "output_type": "stream",
     "text": [
      "o : 1\n",
      "l : 2\n",
      "None\n"
     ]
    }
   ],
   "source": [
    "def one_inline(l):\n",
    "    for i in l:\n",
    "        print(i,':',l[i])\n",
    "\n",
    "d ={'o':1,'l':2}\n",
    "print(one_inline(d))o"
   ]
  },
  {
   "cell_type": "code",
   "execution_count": 26,
   "id": "61caf35e-380b-4da5-9ef2-c63a83b295ef",
   "metadata": {},
   "outputs": [
    {
     "name": "stdout",
     "output_type": "stream",
     "text": [
      "{'a': 1}\n"
     ]
    }
   ],
   "source": [
    "d= {' ':1,'a':1}\n",
    "#dd = d.pop(' ',None)\n",
    "del d[' ']\n",
    "print(d)"
   ]
  },
  {
   "cell_type": "code",
   "execution_count": null,
   "id": "b2ef5988-222e-4028-856c-390a297d1271",
   "metadata": {},
   "outputs": [],
   "source": [
    "email_fang = open('/Users/chenrufeng/OneDrive - City University of Hong Kong/IS5312_python/wk5/Prof. FANG Yulin.txt','r')\n",
    "mydata = email_fang.readlines()\n",
    "for element in mydata:\n",
    "    if '@' in element:\n",
    "        print(element)\n",
    "email_fang.close()"
   ]
  },
  {
   "cell_type": "code",
   "execution_count": null,
   "id": "d3115ecc-f8d2-4696-a454-e3110b0456cd",
   "metadata": {},
   "outputs": [],
   "source": [
    "\n",
    "(lambda x: x+=1)"
   ]
  }
 ],
 "metadata": {
  "kernelspec": {
   "display_name": "Python 3",
   "language": "python",
   "name": "python3"
  },
  "language_info": {
   "codemirror_mode": {
    "name": "ipython",
    "version": 3
   },
   "file_extension": ".py",
   "mimetype": "text/x-python",
   "name": "python",
   "nbconvert_exporter": "python",
   "pygments_lexer": "ipython3",
   "version": "3.8.8"
  }
 },
 "nbformat": 4,
 "nbformat_minor": 5
}
